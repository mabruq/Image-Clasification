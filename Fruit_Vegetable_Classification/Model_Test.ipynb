{
 "cells": [
  {
   "cell_type": "code",
   "execution_count": null,
   "metadata": {},
   "outputs": [],
   "source": []
  }
 ],
 "metadata": {
  "kernelspec": {
   "display_name": "Python 3.9.5 64-bit ('img_cls': pyenv)",
   "name": "python395jvsc74a57bd0b1c1a4f1006397b42c9b23915c2f72c8ca54dc9bf968054cf633252c9e6b18ec"
  },
  "language_info": {
   "name": "python",
   "version": ""
  },
  "orig_nbformat": 2
 },
 "nbformat": 4,
 "nbformat_minor": 2
}