{
 "cells": [
  {
   "cell_type": "code",
   "execution_count": 1,
   "metadata": {},
   "outputs": [],
   "source": [
    "import os\n",
    "import time\n",
    "import pathlib\n",
    "\n",
    "import numpy as np\n",
    "import tensorflow as tf\n",
    "import PIL.Image as Image\n",
    "import tensorflow_hub as hub\n",
    "import matplotlib.pylab as plt\n",
    "\n",
    "from tensorflow import keras\n",
    "from tensorflow.keras.preprocessing import image_dataset_from_directory"
   ]
  },
  {
   "cell_type": "code",
   "execution_count": 2,
   "metadata": {},
   "outputs": [
    {
     "name": "stdout",
     "output_type": "stream",
     "text": [
      "[PhysicalDevice(name='/physical_device:GPU:0', device_type='GPU')]\n"
     ]
    }
   ],
   "source": [
    "physical_devices = tf.config.experimental.list_physical_devices('GPU')\n",
    "print(physical_devices)\n",
    "tf.config.experimental.set_memory_growth(physical_devices[0], True)"
   ]
  },
  {
   "cell_type": "code",
   "execution_count": 3,
   "metadata": {},
   "outputs": [
    {
     "name": "stdout",
     "output_type": "stream",
     "text": [
      "Found 576 files belonging to 8 classes.\n",
      "Found 128 files belonging to 8 classes.\n"
     ]
    }
   ],
   "source": [
    "BATCH_SIZE = 16\n",
    "IMG_SIZE = (224, 224)\n",
    "\n",
    "train_dir= pathlib.Path(\"/home/m3/Projects/Image-Clasification/Fruit_Vegetable_Classification/Dataset/V2/Train\")\n",
    "test_dir= pathlib.Path(\"/home/m3/Projects/Image-Clasification/Fruit_Vegetable_Classification/Dataset/V2/Test\")\n",
    "\n",
    "train_ds = image_dataset_from_directory(train_dir,shuffle=True,batch_size=BATCH_SIZE,image_size=IMG_SIZE)\n",
    "test_ds = image_dataset_from_directory(test_dir,shuffle=True,batch_size=BATCH_SIZE,image_size=IMG_SIZE)\n",
    "\n",
    "class_names = train_ds.class_names\n",
    "n_class=len(class_names)"
   ]
  },
  {
   "cell_type": "code",
   "execution_count": 4,
   "metadata": {},
   "outputs": [],
   "source": [
    "AUTOTUNE = tf.data.AUTOTUNE\n",
    "\n",
    "train_ds = train_ds.prefetch(buffer_size=AUTOTUNE)\n",
    "test_ds = test_ds.prefetch(buffer_size=AUTOTUNE)\n"
   ]
  },
  {
   "cell_type": "code",
   "execution_count": 5,
   "metadata": {},
   "outputs": [],
   "source": [
    "data_augmentation = tf.keras.Sequential([\n",
    "  tf.keras.layers.experimental.preprocessing.RandomFlip('horizontal'),\n",
    "  tf.keras.layers.experimental.preprocessing.RandomRotation(0.2),\n",
    "])\n",
    "rescale = tf.keras.layers.experimental.preprocessing.Rescaling(1./255)\n",
    "dp=tf.keras.layers.Dropout(0.2)"
   ]
  },
  {
   "cell_type": "code",
   "execution_count": 6,
   "metadata": {},
   "outputs": [],
   "source": [
    "base_model= hub.KerasLayer(\"https://tfhub.dev/google/imagenet/mobilenet_v3_large_100_224/feature_vector/5\",input_shape=(224,224,3),trainable=True)"
   ]
  },
  {
   "cell_type": "code",
   "execution_count": 7,
   "metadata": {},
   "outputs": [],
   "source": [
    "model = tf.keras.Sequential([\n",
    "  data_augmentation,\n",
    "  rescale,\n",
    "  base_model,\n",
    "  dp,\n",
    "  tf.keras.layers.Dense(n_class)\n",
    "])\n",
    "\n",
    "model.build([None, 224, 224, 3])"
   ]
  },
  {
   "cell_type": "code",
   "execution_count": 8,
   "metadata": {},
   "outputs": [
    {
     "name": "stdout",
     "output_type": "stream",
     "text": [
      "Model: \"sequential_1\"\n",
      "_________________________________________________________________\n",
      "Layer (type)                 Output Shape              Param #   \n",
      "=================================================================\n",
      "sequential (Sequential)      (None, 224, 224, 3)       0         \n",
      "_________________________________________________________________\n",
      "rescaling (Rescaling)        (None, 224, 224, 3)       0         \n",
      "_________________________________________________________________\n",
      "keras_layer (KerasLayer)     (None, 1280)              4226432   \n",
      "_________________________________________________________________\n",
      "dropout (Dropout)            (None, 1280)              0         \n",
      "_________________________________________________________________\n",
      "dense (Dense)                (None, 8)                 10248     \n",
      "=================================================================\n",
      "Total params: 4,236,680\n",
      "Trainable params: 4,212,280\n",
      "Non-trainable params: 24,400\n",
      "_________________________________________________________________\n"
     ]
    }
   ],
   "source": [
    "model.summary()"
   ]
  },
  {
   "cell_type": "code",
   "execution_count": 9,
   "metadata": {},
   "outputs": [],
   "source": [
    "base_learning_rate = 0.0001\n",
    "model.compile(optimizer=tf.keras.optimizers.Adam(learning_rate=base_learning_rate),\n",
    "              loss=tf.keras.losses.SparseCategoricalCrossentropy(from_logits=True),\n",
    "              metrics=['accuracy'])\n"
   ]
  },
  {
   "cell_type": "code",
   "execution_count": 10,
   "metadata": {},
   "outputs": [
    {
     "name": "stdout",
     "output_type": "stream",
     "text": [
      "8/8 [==============================] - 4s 34ms/step - loss: 2.5774 - accuracy: 0.0781\n",
      "initial loss: 2.58\n",
      "initial accuracy: 0.08\n"
     ]
    }
   ],
   "source": [
    "loss0, accuracy0 = model.evaluate(test_ds)\n",
    "print(\"initial loss: {:.2f}\".format(loss0))\n",
    "print(\"initial accuracy: {:.2f}\".format(accuracy0))\n"
   ]
  },
  {
   "cell_type": "code",
   "execution_count": 11,
   "metadata": {},
   "outputs": [
    {
     "name": "stdout",
     "output_type": "stream",
     "text": [
      "Epoch 1/14\n",
      "36/36 [==============================] - 16s 183ms/step - loss: 1.2069 - accuracy: 0.7031 - val_loss: 0.5958 - val_accuracy: 0.9297\n",
      "Epoch 2/14\n",
      "36/36 [==============================] - 7s 182ms/step - loss: 0.4462 - accuracy: 0.9583 - val_loss: 0.3399 - val_accuracy: 0.9922\n",
      "Epoch 3/14\n",
      "36/36 [==============================] - 7s 184ms/step - loss: 0.3445 - accuracy: 0.9722 - val_loss: 0.2924 - val_accuracy: 0.9844\n",
      "Epoch 4/14\n",
      "36/36 [==============================] - 7s 183ms/step - loss: 0.2986 - accuracy: 0.9913 - val_loss: 0.2716 - val_accuracy: 1.0000\n",
      "Epoch 5/14\n",
      "36/36 [==============================] - 7s 183ms/step - loss: 0.2970 - accuracy: 0.9861 - val_loss: 0.2768 - val_accuracy: 0.9922\n",
      "Epoch 6/14\n",
      "36/36 [==============================] - 7s 180ms/step - loss: 0.2790 - accuracy: 0.9931 - val_loss: 0.2626 - val_accuracy: 1.0000\n",
      "Epoch 7/14\n",
      "36/36 [==============================] - 7s 181ms/step - loss: 0.2951 - accuracy: 0.9826 - val_loss: 0.2653 - val_accuracy: 1.0000\n",
      "Epoch 8/14\n",
      "36/36 [==============================] - 7s 182ms/step - loss: 0.2744 - accuracy: 0.9931 - val_loss: 0.2631 - val_accuracy: 0.9922\n",
      "Epoch 9/14\n",
      "36/36 [==============================] - 7s 184ms/step - loss: 0.2616 - accuracy: 1.0000 - val_loss: 0.2643 - val_accuracy: 0.9922\n",
      "Epoch 10/14\n",
      "36/36 [==============================] - 7s 185ms/step - loss: 0.2673 - accuracy: 0.9983 - val_loss: 0.2587 - val_accuracy: 1.0000\n",
      "Epoch 11/14\n",
      "36/36 [==============================] - 7s 186ms/step - loss: 0.2650 - accuracy: 0.9965 - val_loss: 0.2632 - val_accuracy: 0.9922\n",
      "Epoch 12/14\n",
      "36/36 [==============================] - 7s 186ms/step - loss: 0.2606 - accuracy: 0.9983 - val_loss: 0.2611 - val_accuracy: 1.0000\n",
      "Epoch 13/14\n",
      "36/36 [==============================] - 7s 186ms/step - loss: 0.2576 - accuracy: 1.0000 - val_loss: 0.2587 - val_accuracy: 1.0000\n",
      "Epoch 14/14\n",
      "36/36 [==============================] - 7s 186ms/step - loss: 0.2638 - accuracy: 0.9965 - val_loss: 0.2731 - val_accuracy: 0.9922\n"
     ]
    }
   ],
   "source": [
    "history = model.fit(train_ds,\n",
    "                    epochs=14,\n",
    "                    validation_data=test_ds)\n"
   ]
  },
  {
   "cell_type": "code",
   "execution_count": 12,
   "metadata": {},
   "outputs": [
    {
     "data": {
      "image/png": "[encoded data removed]",
      "text/plain": "<Figure size 576x576 with 2 Axes>"
     },
     "metadata": {
      "needs_background": "light"
     },
     "output_type": "display_data"
    }
   ],
   "source": [
    "acc = history.history['accuracy']\n",
    "val_acc = history.history['val_accuracy']\n",
    "\n",
    "loss = history.history['loss']\n",
    "val_loss = history.history['val_loss']\n",
    "\n",
    "plt.figure(figsize=(8, 8))\n",
    "plt.subplot(2, 1, 1)\n",
    "plt.plot(acc, label='Training Accuracy')\n",
    "plt.plot(val_acc, label='Validation Accuracy')\n",
    "plt.legend(loc='lower right')\n",
    "plt.ylabel('Accuracy')\n",
    "plt.ylim([min(plt.ylim()),1])\n",
    "plt.title('Training and Validation Accuracy')\n",
    "\n",
    "plt.subplot(2, 1, 2)\n",
    "plt.plot(loss, label='Training Loss')\n",
    "plt.plot(val_loss, label='Validation Loss')\n",
    "plt.legend(loc='upper right')\n",
    "plt.ylabel('Cross Entropy')\n",
    "plt.ylim([0,1.0])\n",
    "plt.title('Training and Validation Loss')\n",
    "plt.xlabel('epoch')\n",
    "plt.show()\n"
   ]
  },
  {
   "cell_type": "code",
   "execution_count": 13,
   "metadata": {},
   "outputs": [
    {
     "name": "stdout",
     "output_type": "stream",
     "text": [
      "INFO:tensorflow:Assets written to: saved_models/MNV3_14E_TL-True/assets\n"
     ]
    },
    {
     "name": "stderr",
     "output_type": "stream",
     "text": [
      "INFO:tensorflow:Assets written to: saved_models/MNV3_14E_TL-True/assets\n"
     ]
    },
    {
     "data": {
      "text/plain": "'saved_models/MNV3_14E_TL-True'"
     },
     "execution_count": 13,
     "metadata": {},
     "output_type": "execute_result"
    }
   ],
   "source": [
    "export_path = \"saved_models/MNV3_14E_TL-True\"\n",
    "model.save(export_path)\n",
    "\n",
    "export_path"
   ]
  },
  {
   "cell_type": "code",
   "execution_count": 20,
   "metadata": {},
   "outputs": [],
   "source": [
    "ep=\"Dataset/V2/Eval/\"\n",
    "files=os.listdir(ep)\n",
    "files.sort()"
   ]
  },
  {
   "cell_type": "code",
   "execution_count": 22,
   "metadata": {},
   "outputs": [
    {
     "name": "stdout",
     "output_type": "stream",
     "text": [
      "Fava_Beans_4.jpg--Fava_Beans--99.99719858169556\n",
      "\n",
      "Gar_42.jpg--Garlic--99.87999200820923\n",
      "\n",
      "Garlic_96.jpg--Garlic--99.99700784683228\n",
      "\n",
      "Ging_39.jpg--Ginger--99.97870326042175\n",
      "\n",
      "Ginger_84.jpg--Ginger--99.97214674949646\n",
      "\n",
      "Green_Chilly_76.jpg--Green_Chilly--99.813312292099\n",
      "\n",
      "Ok_22.jpg--Okra--99.9961256980896\n",
      "\n",
      "Ok_39.jpg--Okra--99.99938011169434\n",
      "\n",
      "fb_15.jpg--Fava_Beans--99.9488115310669\n",
      "\n",
      "gc_41.jpg--Green_Chilly--98.72024655342102\n",
      "\n"
     ]
    }
   ],
   "source": [
    "for i in range(len(files)):\n",
    "    img = keras.preprocessing.image.load_img(ep+files[i], target_size=(224, 224))\n",
    "    img_array = keras.preprocessing.image.img_to_array(img)\n",
    "    img_array = tf.expand_dims(img_array, 0) # Create a batch\n",
    "\n",
    "    predictions = model.predict(img_array)\n",
    "    score = tf.nn.softmax(predictions[0])\n",
    "    #print(score)\n",
    "    print(\"{}--{}--{}\\n\".format(files[i],class_names[np.argmax(score)], 100 * np.max(score)))\n",
    "    "
   ]
  },
  {
   "cell_type": "code",
   "execution_count": null,
   "metadata": {},
   "outputs": [],
   "source": []
  }
 ],
 "metadata": {
  "kernelspec": {
   "display_name": "Python 3.9.4 64-bit ('img_cls': pyenv)",
   "name": "python39464bitimgclsvenv0302511bfbb4449e994e6c9499ccc22a"
  },
  "language_info": {
   "codemirror_mode": {
    "name": "ipython",
    "version": 3
   },
   "file_extension": ".py",
   "mimetype": "text/x-python",
   "name": "python",
   "nbconvert_exporter": "python",
   "pygments_lexer": "ipython3",
   "version": "3.9.4"
  },
  "metadata": {
   "interpreter": {
    "hash": "b1c1a4f1006397b42c9b23915c2f72c8ca54dc9bf968054cf633252c9e6b18ec"
   }
  },
  "orig_nbformat": 2
 },
 "nbformat": 4,
 "nbformat_minor": 2
}