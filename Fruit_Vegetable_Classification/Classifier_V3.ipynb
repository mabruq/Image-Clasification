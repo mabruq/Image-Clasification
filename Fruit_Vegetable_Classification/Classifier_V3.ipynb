{
 "metadata": {
  "language_info": {
   "codemirror_mode": {
    "name": "ipython",
    "version": 3
   },
   "file_extension": ".py",
   "mimetype": "text/x-python",
   "name": "python",
   "nbconvert_exporter": "python",
   "pygments_lexer": "ipython3",
   "version": "3.9.4-final"
  },
  "orig_nbformat": 2,
  "kernelspec": {
   "name": "python39464bitimgclsvenvbe11024c9b6c4b9fb3e06f86c7620b62",
   "display_name": "Python 3.9.4 64-bit ('img_cls': venv)"
  }
 },
 "nbformat": 4,
 "nbformat_minor": 2,
 "cells": [
  {
   "cell_type": "code",
   "execution_count": 1,
   "metadata": {},
   "outputs": [],
   "source": [
    "import os\n",
    "import time\n",
    "import pathlib\n",
    "\n",
    "import numpy as np\n",
    "import tensorflow as tf\n",
    "import PIL.Image as Image\n",
    "import tensorflow_hub as hub\n",
    "import matplotlib.pylab as plt\n",
    "\n",
    "from tensorflow.keras.preprocessing import image_dataset_from_directory"
   ]
  },
  {
   "cell_type": "code",
   "execution_count": 2,
   "metadata": {},
   "outputs": [
    {
     "output_type": "stream",
     "name": "stdout",
     "text": [
      "[PhysicalDevice(name='/physical_device:GPU:0', device_type='GPU')]\n"
     ]
    }
   ],
   "source": [
    "physical_devices = tf.config.experimental.list_physical_devices('GPU')\n",
    "print(physical_devices)\n",
    "tf.config.experimental.set_memory_growth(physical_devices[0], True)"
   ]
  },
  {
   "cell_type": "code",
   "execution_count": 16,
   "metadata": {},
   "outputs": [
    {
     "output_type": "stream",
     "name": "stdout",
     "text": [
      "Found 3456 files belonging to 8 classes.\nFound 768 files belonging to 8 classes.\n"
     ]
    }
   ],
   "source": [
    "BATCH_SIZE = 32\n",
    "IMG_SIZE = (224, 224)\n",
    "\n",
    "train_dir= pathlib.Path(\"/home/m3/Projects/Image-Clasification/Fruit_Vegetable_Classification/Dataset/V2/Train\")\n",
    "test_dir= pathlib.Path(\"/home/m3/Projects/Image-Clasification/Fruit_Vegetable_Classification/Dataset/V2/Test\")\n",
    "\n",
    "train_ds = image_dataset_from_directory(train_dir,shuffle=True,batch_size=BATCH_SIZE,image_size=IMG_SIZE)\n",
    "test_ds = image_dataset_from_directory(test_dir,shuffle=True,batch_size=BATCH_SIZE,image_size=IMG_SIZE)\n",
    "\n",
    "class_names = train_ds.class_names\n",
    "n_class=len(class_names)"
   ]
  },
  {
   "cell_type": "code",
   "execution_count": 17,
   "metadata": {},
   "outputs": [],
   "source": [
    "AUTOTUNE = tf.data.AUTOTUNE\n",
    "\n",
    "train_ds = train_ds.prefetch(buffer_size=AUTOTUNE)\n",
    "test_ds = test_ds.prefetch(buffer_size=AUTOTUNE)\n"
   ]
  },
  {
   "cell_type": "code",
   "execution_count": 37,
   "metadata": {},
   "outputs": [],
   "source": [
    "data_augmentation = tf.keras.Sequential([\n",
    "  tf.keras.layers.experimental.preprocessing.RandomFlip('horizontal'),\n",
    "  tf.keras.layers.experimental.preprocessing.RandomRotation(0.2),\n",
    "])\n",
    "rescale = tf.keras.layers.experimental.preprocessing.Rescaling(1./255)\n",
    "dp=tf.keras.layers.Dropout(0.2)"
   ]
  },
  {
   "cell_type": "code",
   "execution_count": 29,
   "metadata": {},
   "outputs": [],
   "source": [
    "base_model= hub.KerasLayer(\"https://tfhub.dev/google/imagenet/mobilenet_v3_large_100_224/feature_vector/5\",input_shape=(224,224,3),trainable=False)"
   ]
  },
  {
   "cell_type": "code",
   "execution_count": 40,
   "metadata": {},
   "outputs": [],
   "source": [
    "model = tf.keras.Sequential([\n",
    "  data_augmentation,\n",
    "  rescale,\n",
    "  base_model,\n",
    "  dp,\n",
    "  tf.keras.layers.Dense(n_class)\n",
    "])\n",
    "\n",
    "model.build([None, 224, 224, 3])"
   ]
  },
  {
   "cell_type": "code",
   "execution_count": 41,
   "metadata": {},
   "outputs": [
    {
     "output_type": "stream",
     "name": "stdout",
     "text": [
      "Model: \"sequential_8\"\n_________________________________________________________________\nLayer (type)                 Output Shape              Param #   \n=================================================================\nsequential_6 (Sequential)    (None, 224, 224, 3)       0         \n_________________________________________________________________\nrescaling_2 (Rescaling)      (None, 224, 224, 3)       0         \n_________________________________________________________________\nkeras_layer_10 (KerasLayer)  (None, 1280)              4226432   \n_________________________________________________________________\ndropout (Dropout)            (None, 1280)              0         \n_________________________________________________________________\ndense_5 (Dense)              (None, 8)                 10248     \n=================================================================\nTotal params: 4,236,680\nTrainable params: 10,248\nNon-trainable params: 4,226,432\n_________________________________________________________________\n"
     ]
    }
   ],
   "source": [
    "model.summary()"
   ]
  },
  {
   "cell_type": "code",
   "execution_count": null,
   "metadata": {},
   "outputs": [],
   "source": [
    "base_learning_rate = 0.0001\n",
    "model.compile(optimizer=tf.keras.optimizers.Adam(lr=base_learning_rate),\n",
    "              loss=tf.keras.losses.\n",
    "              metrics=['accuracy'])\n"
   ]
  }
 ]
}