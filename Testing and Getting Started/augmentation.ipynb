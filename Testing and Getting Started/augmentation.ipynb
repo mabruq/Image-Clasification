{
 "cells": [
  {
   "cell_type": "code",
   "execution_count": 2,
   "metadata": {},
   "outputs": [],
   "source": [
    "import os\n",
    "from keras.preprocessing.image import ImageDataGenerator, array_to_img, img_to_array, load_img"
   ]
  },
  {
   "cell_type": "code",
   "execution_count": 3,
   "metadata": {},
   "outputs": [],
   "source": [
    "dir='/home/mabruq/Projects/Test/mcu_data_V2/Arduino_Mega/'"
   ]
  },
  {
   "cell_type": "code",
   "execution_count": 8,
   "metadata": {},
   "outputs": [],
   "source": [
    "files=os.listdir(dir)\n",
    "files.sort()"
   ]
  },
  {
   "cell_type": "code",
   "execution_count": 22,
   "metadata": {},
   "outputs": [],
   "source": [
    "datagen = ImageDataGenerator(\n",
    "          rotation_range=10,\n",
    "          width_shift_range=0.05,\n",
    "          height_shift_range=0.05,\n",
    "          shear_range=0.2,\n",
    "          zoom_range=0.1,\n",
    "          horizontal_flip=True,\n",
    "          vertical_flip=True,\n",
    "          fill_mode='nearest',\n",
    "          brightness_range=(0.2,0.8)\n",
    ")"
   ]
  },
  {
   "cell_type": "code",
   "execution_count": 31,
   "metadata": {},
   "outputs": [],
   "source": [
    "for f in range(len(files)):\n",
    "    f_name=dir+files[f]\n",
    "    img=load_img(f_name)\n",
    "    x=img_to_array(img)\n",
    "    x=x.reshape((1,)+x.shape)\n",
    "    \n",
    "    fn=files[f]\n",
    "    fn=fn.replace('.jpeg','')\n",
    "\n",
    "    i=1\n",
    "    pre=\"{fn}_aug{i}\".format(fn=fn,i=i)\n",
    "    for batch in datagen.flow(x,batch_size=1,\n",
    "                          save_to_dir=dir,save_prefix=pre,save_format='jpeg'):\n",
    "                          i+=1\n",
    "                          if i>20:\n",
    "                              break"
   ]
  },
  {
   "cell_type": "code",
   "execution_count": null,
   "metadata": {},
   "outputs": [],
   "source": []
  }
 ],
 "metadata": {
  "kernelspec": {
   "display_name": "Python 3.8.8 64-bit ('TF': conda)",
   "metadata": {
    "interpreter": {
     "hash": "5042743bc6eba2b4f1ae535f7132cf3991a8758a4a83e4fed9a69eb4bf4089db"
    }
   },
   "name": "python3"
  },
  "language_info": {
   "codemirror_mode": {
    "name": "ipython",
    "version": 3
   },
   "file_extension": ".py",
   "mimetype": "text/x-python",
   "name": "python",
   "nbconvert_exporter": "python",
   "pygments_lexer": "ipython3",
   "version": "3.8.8"
  },
  "orig_nbformat": 2
 },
 "nbformat": 4,
 "nbformat_minor": 2
}