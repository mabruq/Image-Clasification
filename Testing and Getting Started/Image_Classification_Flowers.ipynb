{
 "cells": [
  {
   "cell_type": "code",
   "execution_count": 22,
   "metadata": {},
   "outputs": [],
   "source": [
    "import os\n",
    "import PIL\n",
    "import numpy as np\n",
    "import tensorflow as tf\n",
    "import matplotlib.pyplot as plt\n",
    "\n",
    "from tensorflow import keras\n",
    "from tensorflow.keras import layers\n",
    "from tensorflow.keras.models import Sequential\n"
   ]
  },
  {
   "cell_type": "code",
   "execution_count": 23,
   "metadata": {},
   "outputs": [],
   "source": [
    "physical_devices = tf.config.list_physical_devices('GPU')\n",
    "try:\n",
    "  tf.config.experimental.set_memory_growth(physical_devices[0], True)\n",
    "except:\n",
    "  # Invalid device or cannot modify virtual devices once initialized.\n",
    "  pass\n"
   ]
  },
  {
   "cell_type": "code",
   "execution_count": 24,
   "metadata": {},
   "outputs": [],
   "source": [
    "import pathlib\n",
    "dataset_url = \"https://storage.googleapis.com/download.tensorflow.org/example_images/flower_photos.tgz\"\n",
    "data_dir = tf.keras.utils.get_file('flower_photos', origin=dataset_url, untar=True)\n",
    "data_dir = pathlib.Path(data_dir)\n"
   ]
  },
  {
   "cell_type": "code",
   "execution_count": 25,
   "metadata": {},
   "outputs": [],
   "source": [
    "batch_size = 32\n",
    "img_height = 180\n",
    "img_width = 180"
   ]
  },
  {
   "cell_type": "code",
   "execution_count": 26,
   "metadata": {},
   "outputs": [
    {
     "name": "stdout",
     "output_type": "stream",
     "text": [
      "Found 3670 files belonging to 5 classes.\n",
      "Using 2936 files for training.\n"
     ]
    }
   ],
   "source": [
    "train_ds = tf.keras.preprocessing.image_dataset_from_directory(\n",
    "  data_dir,\n",
    "  validation_split=0.2,\n",
    "  subset=\"training\",\n",
    "  seed=123,\n",
    "  image_size=(img_height, img_width),\n",
    "  batch_size=batch_size)\n",
    "\n"
   ]
  },
  {
   "cell_type": "code",
   "execution_count": 27,
   "metadata": {},
   "outputs": [
    {
     "name": "stdout",
     "output_type": "stream",
     "text": [
      "Found 3670 files belonging to 5 classes.\n",
      "Using 734 files for validation.\n"
     ]
    }
   ],
   "source": [
    "val_ds = tf.keras.preprocessing.image_dataset_from_directory(\n",
    "  data_dir,\n",
    "  validation_split=0.2,\n",
    "  subset=\"validation\",\n",
    "  seed=123,\n",
    "  image_size=(img_height, img_width),\n",
    "  batch_size=batch_size)\n"
   ]
  },
  {
   "cell_type": "code",
   "execution_count": 28,
   "metadata": {},
   "outputs": [
    {
     "name": "stdout",
     "output_type": "stream",
     "text": [
      "['daisy', 'dandelion', 'roses', 'sunflowers', 'tulips']\n"
     ]
    }
   ],
   "source": [
    "num_classes = 5\n",
    "\n",
    "class_names = train_ds.class_names\n",
    "print(class_names)\n"
   ]
  },
  {
   "cell_type": "code",
   "execution_count": null,
   "metadata": {},
   "outputs": [],
   "source": [
    "import matplotlib.pyplot as plt\n",
    "\n",
    "plt.figure(figsize=(10, 10))\n",
    "for images, labels in train_ds.take(1):\n",
    "  for i in range(9):\n",
    "    ax = plt.subplot(3, 3, i + 1)\n",
    "    plt.imshow(images[i].numpy().astype(\"uint8\"))\n",
    "    plt.title(class_names[labels[i]])\n",
    "    plt.axis(\"off\")\n"
   ]
  },
  {
   "cell_type": "code",
   "execution_count": 29,
   "metadata": {},
   "outputs": [],
   "source": [
    "AUTOTUNE = tf.data.AUTOTUNE\n",
    "\n",
    "train_ds = train_ds.cache().shuffle(1000).prefetch(buffer_size=AUTOTUNE)\n",
    "val_ds = val_ds.cache().prefetch(buffer_size=AUTOTUNE)\n"
   ]
  },
  {
   "cell_type": "code",
   "execution_count": 30,
   "metadata": {},
   "outputs": [],
   "source": [
    "data_augmentation = keras.Sequential(\n",
    "  [\n",
    "    layers.experimental.preprocessing.RandomFlip(\"horizontal\", \n",
    "                                                 input_shape=(img_height, \n",
    "                                                              img_width,\n",
    "                                                              3)),\n",
    "    layers.experimental.preprocessing.RandomRotation(0.1),\n",
    "    layers.experimental.preprocessing.RandomZoom(0.1),\n",
    "  ]\n",
    ")\n"
   ]
  },
  {
   "cell_type": "code",
   "execution_count": 31,
   "metadata": {},
   "outputs": [],
   "source": [
    "model = Sequential([\n",
    "  data_augmentation,\n",
    "  layers.experimental.preprocessing.Rescaling(1./255),\n",
    "  layers.Conv2D(16, 3, padding='same', activation='relu'),\n",
    "  layers.MaxPooling2D(),\n",
    "  layers.Conv2D(32, 3, padding='same', activation='relu'),\n",
    "  layers.MaxPooling2D(),\n",
    "  layers.Conv2D(64, 3, padding='same', activation='relu'),\n",
    "  layers.MaxPooling2D(),\n",
    "  layers.Dropout(0.2),\n",
    "  layers.Flatten(),\n",
    "  layers.Dense(128, activation='relu'),\n",
    "  layers.Dense(num_classes)\n",
    "])\n",
    "\n",
    "\n"
   ]
  },
  {
   "cell_type": "code",
   "execution_count": 32,
   "metadata": {},
   "outputs": [],
   "source": [
    "model.compile(optimizer='adam',\n",
    "              loss=tf.keras.losses.SparseCategoricalCrossentropy(from_logits=True),\n",
    "              metrics=['accuracy'])\n"
   ]
  },
  {
   "cell_type": "code",
   "execution_count": 33,
   "metadata": {},
   "outputs": [
    {
     "name": "stdout",
     "output_type": "stream",
     "text": [
      "Model: \"sequential_3\"\n",
      "_________________________________________________________________\n",
      "Layer (type)                 Output Shape              Param #   \n",
      "=================================================================\n",
      "sequential_2 (Sequential)    (None, 180, 180, 3)       0         \n",
      "_________________________________________________________________\n",
      "rescaling_1 (Rescaling)      (None, 180, 180, 3)       0         \n",
      "_________________________________________________________________\n",
      "conv2d_3 (Conv2D)            (None, 180, 180, 16)      448       \n",
      "_________________________________________________________________\n",
      "max_pooling2d_3 (MaxPooling2 (None, 90, 90, 16)        0         \n",
      "_________________________________________________________________\n",
      "conv2d_4 (Conv2D)            (None, 90, 90, 32)        4640      \n",
      "_________________________________________________________________\n",
      "max_pooling2d_4 (MaxPooling2 (None, 45, 45, 32)        0         \n",
      "_________________________________________________________________\n",
      "conv2d_5 (Conv2D)            (None, 45, 45, 64)        18496     \n",
      "_________________________________________________________________\n",
      "max_pooling2d_5 (MaxPooling2 (None, 22, 22, 64)        0         \n",
      "_________________________________________________________________\n",
      "dropout (Dropout)            (None, 22, 22, 64)        0         \n",
      "_________________________________________________________________\n",
      "flatten_1 (Flatten)          (None, 30976)             0         \n",
      "_________________________________________________________________\n",
      "dense_2 (Dense)              (None, 128)               3965056   \n",
      "_________________________________________________________________\n",
      "dense_3 (Dense)              (None, 5)                 645       \n",
      "=================================================================\n",
      "Total params: 3,989,285\n",
      "Trainable params: 3,989,285\n",
      "Non-trainable params: 0\n",
      "_________________________________________________________________\n"
     ]
    }
   ],
   "source": [
    "model.summary()\n"
   ]
  },
  {
   "cell_type": "code",
   "execution_count": 34,
   "metadata": {},
   "outputs": [
    {
     "name": "stdout",
     "output_type": "stream",
     "text": [
      "Epoch 1/25\n",
      "92/92 [==============================] - 8s 43ms/step - loss: 1.5815 - accuracy: 0.3610 - val_loss: 1.1517 - val_accuracy: 0.5518\n",
      "Epoch 2/25\n",
      "92/92 [==============================] - 3s 35ms/step - loss: 1.0730 - accuracy: 0.5671 - val_loss: 0.9600 - val_accuracy: 0.6281\n",
      "Epoch 3/25\n",
      "92/92 [==============================] - 3s 35ms/step - loss: 0.9555 - accuracy: 0.6169 - val_loss: 0.8808 - val_accuracy: 0.6499\n",
      "Epoch 4/25\n",
      "92/92 [==============================] - 3s 35ms/step - loss: 0.8481 - accuracy: 0.6693 - val_loss: 0.9590 - val_accuracy: 0.6144\n",
      "Epoch 5/25\n",
      "92/92 [==============================] - 3s 35ms/step - loss: 0.7891 - accuracy: 0.6993 - val_loss: 0.8806 - val_accuracy: 0.6444\n",
      "Epoch 6/25\n",
      "92/92 [==============================] - 3s 34ms/step - loss: 0.7817 - accuracy: 0.7033 - val_loss: 0.8023 - val_accuracy: 0.6839\n",
      "Epoch 7/25\n",
      "92/92 [==============================] - 3s 34ms/step - loss: 0.7651 - accuracy: 0.7118 - val_loss: 0.7750 - val_accuracy: 0.6948\n",
      "Epoch 8/25\n",
      "92/92 [==============================] - 3s 35ms/step - loss: 0.7187 - accuracy: 0.7246 - val_loss: 0.8156 - val_accuracy: 0.7098\n",
      "Epoch 9/25\n",
      "92/92 [==============================] - 3s 34ms/step - loss: 0.6498 - accuracy: 0.7648 - val_loss: 0.6989 - val_accuracy: 0.7275\n",
      "Epoch 10/25\n",
      "92/92 [==============================] - 3s 35ms/step - loss: 0.6154 - accuracy: 0.7681 - val_loss: 0.7267 - val_accuracy: 0.7084\n",
      "Epoch 11/25\n",
      "92/92 [==============================] - 3s 33ms/step - loss: 0.6044 - accuracy: 0.7770 - val_loss: 0.7703 - val_accuracy: 0.7003\n",
      "Epoch 12/25\n",
      "92/92 [==============================] - 3s 34ms/step - loss: 0.5992 - accuracy: 0.7694 - val_loss: 0.7969 - val_accuracy: 0.6975\n",
      "Epoch 13/25\n",
      "92/92 [==============================] - 3s 34ms/step - loss: 0.5505 - accuracy: 0.7938 - val_loss: 0.7328 - val_accuracy: 0.7248\n",
      "Epoch 14/25\n",
      "92/92 [==============================] - 3s 34ms/step - loss: 0.5392 - accuracy: 0.7995 - val_loss: 0.7468 - val_accuracy: 0.7207\n",
      "Epoch 15/25\n",
      "92/92 [==============================] - 3s 35ms/step - loss: 0.4949 - accuracy: 0.8050 - val_loss: 0.7293 - val_accuracy: 0.7357\n",
      "Epoch 16/25\n",
      "92/92 [==============================] - 3s 34ms/step - loss: 0.4994 - accuracy: 0.8074 - val_loss: 0.7627 - val_accuracy: 0.7166\n",
      "Epoch 17/25\n",
      "92/92 [==============================] - 3s 33ms/step - loss: 0.4501 - accuracy: 0.8434 - val_loss: 0.7327 - val_accuracy: 0.7384\n",
      "Epoch 18/25\n",
      "92/92 [==============================] - 3s 34ms/step - loss: 0.4687 - accuracy: 0.8225 - val_loss: 0.7736 - val_accuracy: 0.7343\n",
      "Epoch 19/25\n",
      "92/92 [==============================] - 3s 34ms/step - loss: 0.4317 - accuracy: 0.8340 - val_loss: 0.7731 - val_accuracy: 0.7371\n",
      "Epoch 20/25\n",
      "92/92 [==============================] - 3s 34ms/step - loss: 0.4399 - accuracy: 0.8438 - val_loss: 0.7653 - val_accuracy: 0.7357\n",
      "Epoch 21/25\n",
      "92/92 [==============================] - 3s 34ms/step - loss: 0.3756 - accuracy: 0.8589 - val_loss: 0.8195 - val_accuracy: 0.7112\n",
      "Epoch 22/25\n",
      "92/92 [==============================] - 3s 34ms/step - loss: 0.4287 - accuracy: 0.8420 - val_loss: 0.8202 - val_accuracy: 0.7207\n",
      "Epoch 23/25\n",
      "92/92 [==============================] - 3s 33ms/step - loss: 0.3662 - accuracy: 0.8599 - val_loss: 0.8150 - val_accuracy: 0.7125\n",
      "Epoch 24/25\n",
      "92/92 [==============================] - 3s 34ms/step - loss: 0.3408 - accuracy: 0.8696 - val_loss: 0.9083 - val_accuracy: 0.7166\n",
      "Epoch 25/25\n",
      "92/92 [==============================] - 3s 35ms/step - loss: 0.3280 - accuracy: 0.8693 - val_loss: 0.7822 - val_accuracy: 0.7561\n"
     ]
    }
   ],
   "source": [
    "epochs=25\n",
    "history = model.fit(\n",
    "  train_ds,\n",
    "  validation_data=val_ds,\n",
    "  epochs=epochs\n",
    ")\n"
   ]
  },
  {
   "cell_type": "code",
   "execution_count": null,
   "metadata": {},
   "outputs": [],
   "source": [
    "from numba import cuda \n",
    "device = cuda.get_current_device()\n",
    "device.reset()"
   ]
  },
  {
   "cell_type": "code",
   "execution_count": 35,
   "metadata": {},
   "outputs": [
    {
     "data": {
      "image/png": "[encoded data removed]",
      "text/plain": "<Figure size 576x576 with 2 Axes>"
     },
     "metadata": {
      "needs_background": "light"
     },
     "output_type": "display_data"
    }
   ],
   "source": [
    "acc = history.history['accuracy']\n",
    "val_acc = history.history['val_accuracy']\n",
    "\n",
    "loss = history.history['loss']\n",
    "val_loss = history.history['val_loss']\n",
    "\n",
    "epochs_range = range(epochs)\n",
    "\n",
    "plt.figure(figsize=(8, 8))\n",
    "plt.subplot(1, 2, 1)\n",
    "plt.plot(epochs_range, acc, label='Training Accuracy')\n",
    "plt.plot(epochs_range, val_acc, label='Validation Accuracy')\n",
    "plt.legend(loc='lower right')\n",
    "plt.title('Training and Validation Accuracy')\n",
    "\n",
    "plt.subplot(1, 2, 2)\n",
    "plt.plot(epochs_range, loss, label='Training Loss')\n",
    "plt.plot(epochs_range, val_loss, label='Validation Loss')\n",
    "plt.legend(loc='upper right')\n",
    "plt.title('Training and Validation Loss')\n",
    "plt.show()\n"
   ]
  },
  {
   "cell_type": "code",
   "execution_count": 36,
   "metadata": {},
   "outputs": [
    {
     "name": "stdout",
     "output_type": "stream",
     "text": [
      "Downloading data from https://storage.googleapis.com/download.tensorflow.org/example_images/592px-Red_sunflower.jpg\n",
      "122880/117948 [===============================] - 0s 1us/step\n",
      "This image most likely belongs to sunflowers with a 99.95 percent confidence.\n"
     ]
    }
   ],
   "source": [
    "sunflower_url = \"https://storage.googleapis.com/download.tensorflow.org/example_images/592px-Red_sunflower.jpg\"\n",
    "sunflower_path = tf.keras.utils.get_file('Red_sunflower', origin=sunflower_url)\n",
    "\n",
    "img = keras.preprocessing.image.load_img(\n",
    "    sunflower_path, target_size=(img_height, img_width)\n",
    ")\n",
    "img_array = keras.preprocessing.image.img_to_array(img)\n",
    "img_array = tf.expand_dims(img_array, 0) # Create a batch\n",
    "\n",
    "predictions = model.predict(img_array)\n",
    "score = tf.nn.softmax(predictions[0])\n",
    "\n",
    "print(\n",
    "    \"This image most likely belongs to {} with a {:.2f} percent confidence.\"\n",
    "    .format(class_names[np.argmax(score)], 100 * np.max(score))\n",
    ")\n"
   ]
  },
  {
   "cell_type": "code",
   "execution_count": null,
   "metadata": {},
   "outputs": [],
   "source": []
  }
 ],
 "metadata": {
  "kernelspec": {
   "display_name": "Python 3.8.8 64-bit ('img_cls': conda)",
   "metadata": {
    "interpreter": {
     "hash": "a8568714a8ead84f43b65626cd986bfdb8370c4b1caae9708811809a976d99ff"
    }
   },
   "name": "python3"
  },
  "language_info": {
   "codemirror_mode": {
    "name": "ipython",
    "version": 3
   },
   "file_extension": ".py",
   "mimetype": "text/x-python",
   "name": "python",
   "nbconvert_exporter": "python",
   "pygments_lexer": "ipython3",
   "version": "3.8.8-final"
  },
  "orig_nbformat": 2
 },
 "nbformat": 4,
 "nbformat_minor": 2
}