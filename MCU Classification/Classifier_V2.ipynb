{
 "cells": [
  {
   "cell_type": "code",
   "execution_count": 1,
   "metadata": {},
   "outputs": [],
   "source": [
    "import numpy as np\n",
    "import time\n",
    "\n",
    "import PIL.Image as Image\n",
    "import matplotlib.pylab as plt\n",
    "\n",
    "import tensorflow as tf\n",
    "import tensorflow_hub as hub"
   ]
  },
  {
   "cell_type": "code",
   "execution_count": 2,
   "metadata": {},
   "outputs": [
    {
     "name": "stdout",
     "output_type": "stream",
     "text": [
      "[PhysicalDevice(name='/physical_device:GPU:0', device_type='GPU')]\n"
     ]
    }
   ],
   "source": [
    "physical_devices = tf.config.experimental.list_physical_devices('GPU')\n",
    "print(physical_devices)\n",
    "tf.config.experimental.set_memory_growth(physical_devices[0], True)"
   ]
  },
  {
   "cell_type": "code",
   "execution_count": 3,
   "metadata": {},
   "outputs": [],
   "source": [
    "from numba import cuda \n",
    "device = cuda.get_current_device()\n",
    "device.reset()"
   ]
  },
  {
   "cell_type": "code",
   "execution_count": 4,
   "metadata": {},
   "outputs": [],
   "source": [
    "import pathlib\n",
    "data_dir = pathlib.Path(\"Datasets/mcu_data_V2\")"
   ]
  },
  {
   "cell_type": "code",
   "execution_count": 24,
   "metadata": {},
   "outputs": [
    {
     "name": "stdout",
     "output_type": "stream",
     "text": [
      "Found 3360 files belonging to 3 classes.\n",
      "Using 2688 files for training.\n",
      "Found 3360 files belonging to 3 classes.\n",
      "Using 672 files for validation.\n"
     ]
    }
   ],
   "source": [
    "batch_size = 32\n",
    "img_height = 224\n",
    "img_width = 224\n",
    "num_classes=3\n",
    "\n",
    "train_ds = tf.keras.preprocessing.image_dataset_from_directory(\n",
    "  data_dir,\n",
    "  validation_split=0.2,\n",
    "  subset=\"training\",\n",
    "  seed=123,\n",
    "  image_size=(img_height, img_width),\n",
    "  batch_size=batch_size)\n",
    "\n",
    "val_ds = tf.keras.preprocessing.image_dataset_from_directory(\n",
    "  data_dir,\n",
    "  validation_split=0.2,\n",
    "  subset=\"validation\",\n",
    "  seed=123,\n",
    "  image_size=(img_height, img_width),\n",
    "  batch_size=batch_size)"
   ]
  },
  {
   "cell_type": "code",
   "execution_count": 25,
   "metadata": {},
   "outputs": [
    {
     "name": "stdout",
     "output_type": "stream",
     "text": [
      "['Arduino_Mega' 'Arduino_Uno' 'NodeMCU']\n"
     ]
    }
   ],
   "source": [
    "class_names = np.array(train_ds.class_names)\n",
    "print(class_names)\n"
   ]
  },
  {
   "cell_type": "code",
   "execution_count": 26,
   "metadata": {},
   "outputs": [],
   "source": [
    "feature_extractor_model = \"https://tfhub.dev/google/imagenet/mobilenet_v3_small_100_224/feature_vector/5\""
   ]
  },
  {
   "cell_type": "code",
   "execution_count": 27,
   "metadata": {},
   "outputs": [],
   "source": [
    "feature_extractor_layer = hub.KerasLayer(\n",
    "    feature_extractor_model, input_shape=(224, 224, 3), trainable=True)\n"
   ]
  },
  {
   "cell_type": "code",
   "execution_count": 28,
   "metadata": {},
   "outputs": [],
   "source": [
    "normalization_layer = tf.keras.layers.experimental.preprocessing.Rescaling(1./255)\n"
   ]
  },
  {
   "cell_type": "code",
   "execution_count": 29,
   "metadata": {},
   "outputs": [],
   "source": [
    "num_classes = len(class_names)\n",
    "\n",
    "model = tf.keras.Sequential([\n",
    "  feature_extractor_layer,\n",
    "  tf.keras.layers.Dense(num_classes)\n",
    "])\n"
   ]
  },
  {
   "cell_type": "code",
   "execution_count": 30,
   "metadata": {},
   "outputs": [
    {
     "name": "stdout",
     "output_type": "stream",
     "text": [
      "Model: \"sequential_2\"\n",
      "_________________________________________________________________\n",
      "Layer (type)                 Output Shape              Param #   \n",
      "=================================================================\n",
      "keras_layer_1 (KerasLayer)   (None, 1024)              1529968   \n",
      "_________________________________________________________________\n",
      "dense_2 (Dense)              (None, 3)                 3075      \n",
      "=================================================================\n",
      "Total params: 1,533,043\n",
      "Trainable params: 1,520,931\n",
      "Non-trainable params: 12,112\n",
      "_________________________________________________________________\n"
     ]
    }
   ],
   "source": [
    "model.summary()\n"
   ]
  },
  {
   "cell_type": "code",
   "execution_count": 31,
   "metadata": {},
   "outputs": [],
   "source": [
    "model.compile(\n",
    "  optimizer=tf.keras.optimizers.Adam(),\n",
    "  loss=tf.keras.losses.SparseCategoricalCrossentropy(from_logits=True),\n",
    "  metrics=['acc'])\n"
   ]
  },
  {
   "cell_type": "code",
   "execution_count": 19,
   "metadata": {},
   "outputs": [
    {
     "name": "stdout",
     "output_type": "stream",
     "text": [
      "135/135 [==============================] - 3s 17ms/step - loss: 108316.1550 - acc: 0.3154\n"
     ]
    }
   ],
   "source": [
    "initial_epochs = 10\n",
    "\n",
    "loss0, accuracy0 = model.evaluate(val_ds)\n"
   ]
  },
  {
   "cell_type": "code",
   "execution_count": 32,
   "metadata": {},
   "outputs": [
    {
     "name": "stdout",
     "output_type": "stream",
     "text": [
      "Epoch 1/28\n",
      "84/84 [==============================] - 21s 172ms/step - loss: 0.4366 - acc: 0.9680\n",
      "Epoch 2/28\n",
      "84/84 [==============================] - 15s 172ms/step - loss: 0.3382 - acc: 0.9985\n",
      "Epoch 3/28\n",
      "84/84 [==============================] - 15s 174ms/step - loss: 0.3292 - acc: 0.9989\n",
      "Epoch 4/28\n",
      "84/84 [==============================] - 15s 174ms/step - loss: 0.3550 - acc: 0.9904\n",
      "Epoch 5/28\n",
      "84/84 [==============================] - 15s 174ms/step - loss: 0.3207 - acc: 0.9985\n",
      "Epoch 6/28\n",
      "84/84 [==============================] - 15s 174ms/step - loss: 0.3155 - acc: 0.9974\n",
      "Epoch 7/28\n",
      "84/84 [==============================] - 15s 173ms/step - loss: 0.3031 - acc: 1.0000\n",
      "Epoch 8/28\n",
      "84/84 [==============================] - 15s 173ms/step - loss: 0.2963 - acc: 1.0000\n",
      "Epoch 9/28\n",
      "84/84 [==============================] - 15s 174ms/step - loss: 0.2895 - acc: 1.0000\n",
      "Epoch 10/28\n",
      "84/84 [==============================] - 15s 175ms/step - loss: 0.2827 - acc: 1.0000\n",
      "Epoch 11/28\n",
      "84/84 [==============================] - 15s 175ms/step - loss: 0.2760 - acc: 1.0000\n",
      "Epoch 12/28\n",
      "84/84 [==============================] - 15s 173ms/step - loss: 0.2693 - acc: 1.0000\n",
      "Epoch 13/28\n",
      "84/84 [==============================] - 15s 173ms/step - loss: 0.2626 - acc: 1.0000\n",
      "Epoch 14/28\n",
      "84/84 [==============================] - 15s 173ms/step - loss: 0.2560 - acc: 1.0000\n",
      "Epoch 15/28\n",
      "84/84 [==============================] - 15s 175ms/step - loss: 0.2495 - acc: 1.0000\n",
      "Epoch 16/28\n",
      "84/84 [==============================] - 15s 173ms/step - loss: 0.2430 - acc: 1.0000\n",
      "Epoch 17/28\n",
      "84/84 [==============================] - 15s 173ms/step - loss: 0.2367 - acc: 1.0000\n",
      "Epoch 18/28\n",
      "84/84 [==============================] - 15s 173ms/step - loss: 0.2304 - acc: 1.0000\n",
      "Epoch 19/28\n",
      "84/84 [==============================] - 15s 173ms/step - loss: 0.2242 - acc: 1.0000\n",
      "Epoch 20/28\n",
      "84/84 [==============================] - 15s 173ms/step - loss: 0.2182 - acc: 1.0000\n",
      "Epoch 21/28\n",
      "84/84 [==============================] - 15s 173ms/step - loss: 0.2225 - acc: 0.9978\n",
      "Epoch 22/28\n",
      "84/84 [==============================] - 15s 174ms/step - loss: 0.2938 - acc: 0.9816\n",
      "Epoch 23/28\n",
      "84/84 [==============================] - 15s 171ms/step - loss: 0.2147 - acc: 0.9989\n",
      "Epoch 24/28\n",
      "84/84 [==============================] - 14s 162ms/step - loss: 0.2076 - acc: 1.0000\n",
      "Epoch 25/28\n",
      "84/84 [==============================] - 14s 162ms/step - loss: 0.2036 - acc: 1.0000\n",
      "Epoch 26/28\n",
      "84/84 [==============================] - 14s 162ms/step - loss: 0.1987 - acc: 1.0000\n",
      "Epoch 27/28\n",
      "84/84 [==============================] - 14s 162ms/step - loss: 0.2060 - acc: 0.9967\n",
      "Epoch 28/28\n",
      "84/84 [==============================] - 14s 163ms/step - loss: 0.1932 - acc: 0.9989\n"
     ]
    }
   ],
   "source": [
    "class CollectBatchStats(tf.keras.callbacks.Callback):\n",
    "  def __init__(self):\n",
    "    self.batch_losses = []\n",
    "    self.batch_acc = []\n",
    "\n",
    "  def on_train_batch_end(self, batch, logs=None):\n",
    "    self.batch_losses.append(logs['loss'])\n",
    "    self.batch_acc.append(logs['acc'])\n",
    "    self.model.reset_metrics()\n",
    "\n",
    "batch_stats_callback = CollectBatchStats()\n",
    "\n",
    "history = model.fit(train_ds, epochs=28,\n",
    "                    callbacks=[batch_stats_callback])\n"
   ]
  },
  {
   "cell_type": "code",
   "execution_count": null,
   "metadata": {},
   "outputs": [],
   "source": [
    "history = model.fit(train_ds,\n",
    "                    epochs=26,\n",
    "                    validation_data=val_ds)"
   ]
  },
  {
   "cell_type": "code",
   "execution_count": 33,
   "metadata": {},
   "outputs": [
    {
     "data": {
      "text/plain": "[<matplotlib.lines.Line2D at 0x7fa7abebe640>]"
     },
     "execution_count": 33,
     "metadata": {},
     "output_type": "execute_result"
    },
    {
     "data": {
      "image/png": "[encoded data removed]",
      "text/plain": "<Figure size 432x288 with 1 Axes>"
     },
     "metadata": {
      "needs_background": "light"
     },
     "output_type": "display_data"
    },
    {
     "data": {
      "image/png": "[encoded data removed]",
      "text/plain": "<Figure size 432x288 with 1 Axes>"
     },
     "metadata": {
      "needs_background": "light"
     },
     "output_type": "display_data"
    }
   ],
   "source": [
    "plt.figure()\n",
    "plt.ylabel(\"Loss\")\n",
    "plt.xlabel(\"Training Steps\")\n",
    "plt.ylim([0,2])\n",
    "plt.plot(batch_stats_callback.batch_losses)\n",
    "\n",
    "plt.figure()\n",
    "plt.ylabel(\"Accuracy\")\n",
    "plt.xlabel(\"Training Steps\")\n",
    "plt.ylim([0,1])\n",
    "plt.plot(batch_stats_callback.batch_acc)\n",
    "\n"
   ]
  },
  {
   "cell_type": "code",
   "execution_count": 34,
   "metadata": {},
   "outputs": [
    {
     "name": "stdout",
     "output_type": "stream",
     "text": [
      "[[-4.2431135 10.828187  -6.9147377]]\n",
      "tf.Tensor([2.8485067e-07 9.9999976e-01 1.9694548e-08], shape=(3,), dtype=float32)\n",
      "This image most likely belongs to Arduino_Uno with a 100.00 percent confidence.\n"
     ]
    }
   ],
   "source": [
    "from tensorflow import keras\n",
    "import numpy as np\n",
    "\n",
    "img = keras.preprocessing.image.load_img(\n",
    "    'j1.jpg', target_size=(224, 224)\n",
    ")\n",
    "img_array = keras.preprocessing.image.img_to_array(img)\n",
    "img_array = tf.expand_dims(img_array, 0) # Create a batch\n",
    "\n",
    "predictions = model.predict(img_array)\n",
    "score = tf.nn.softmax(predictions[0])\n",
    "\n",
    "print(predictions)\n",
    "print(score)\n",
    "print(\n",
    "    \"This image most likely belongs to {} with a {:.2f} percent confidence.\"\n",
    "    .format(class_names[np.argmax(score)], 100 * np.max(score))\n",
    ")"
   ]
  },
  {
   "cell_type": "code",
   "execution_count": 35,
   "metadata": {},
   "outputs": [
    {
     "name": "stdout",
     "output_type": "stream",
     "text": [
      "INFO:tensorflow:Assets written to: saved_models/MobileNetV3_28_E_Trainable/assets\n"
     ]
    },
    {
     "name": "stderr",
     "output_type": "stream",
     "text": [
      "INFO:tensorflow:Assets written to: saved_models/MobileNetV3_28_E_Trainable/assets\n"
     ]
    },
    {
     "data": {
      "text/plain": "'saved_models/MobileNetV3_28_E_Trainable'"
     },
     "execution_count": 35,
     "metadata": {},
     "output_type": "execute_result"
    }
   ],
   "source": [
    "t= time.time()\n",
    "\n",
    "export_path = \"saved_models/MobileNetV3_28_E_Trainable\".format(int(t))\n",
    "model.save(export_path)\n",
    "\n",
    "export_path"
   ]
  },
  {
   "cell_type": "code",
   "execution_count": null,
   "metadata": {},
   "outputs": [],
   "source": []
  }
 ],
 "metadata": {
  "kernelspec": {
   "display_name": "Python 3.8.8 64-bit ('img_cls': conda)",
   "metadata": {
    "interpreter": {
     "hash": "a8568714a8ead84f43b65626cd986bfdb8370c4b1caae9708811809a976d99ff"
    }
   },
   "name": "python3"
  },
  "language_info": {
   "codemirror_mode": {
    "name": "ipython",
    "version": 3
   },
   "file_extension": ".py",
   "mimetype": "text/x-python",
   "name": "python",
   "nbconvert_exporter": "python",
   "pygments_lexer": "ipython3",
   "version": "3.8.8"
  },
  "orig_nbformat": 2
 },
 "nbformat": 4,
 "nbformat_minor": 2
}