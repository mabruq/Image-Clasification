{
 "cells": [
  {
   "cell_type": "code",
   "execution_count": 1,
   "metadata": {},
   "outputs": [],
   "source": [
    "import numpy as np\n",
    "import time\n",
    "\n",
    "import PIL.Image as Image\n",
    "import matplotlib.pylab as plt\n",
    "\n",
    "import tensorflow as tf\n",
    "import tensorflow_hub as hub"
   ]
  },
  {
   "cell_type": "code",
   "execution_count": 2,
   "metadata": {},
   "outputs": [
    {
     "name": "stdout",
     "output_type": "stream",
     "text": [
      "[PhysicalDevice(name='/physical_device:GPU:0', device_type='GPU')]\n"
     ]
    }
   ],
   "source": [
    "physical_devices = tf.config.experimental.list_physical_devices('GPU')\n",
    "print(physical_devices)\n",
    "tf.config.experimental.set_memory_growth(physical_devices[0], True)"
   ]
  },
  {
   "cell_type": "code",
   "execution_count": 3,
   "metadata": {},
   "outputs": [],
   "source": [
    "import pathlib\n",
    "data_dir = pathlib.Path(\"/home/mabruq/Projects/Test/mcu_data\")"
   ]
  },
  {
   "cell_type": "code",
   "execution_count": 4,
   "metadata": {},
   "outputs": [
    {
     "name": "stdout",
     "output_type": "stream",
     "text": [
      "Found 153 files belonging to 3 classes.\n",
      "Using 123 files for training.\n",
      "Found 153 files belonging to 3 classes.\n",
      "Using 30 files for validation.\n"
     ]
    }
   ],
   "source": [
    "batch_size = 5\n",
    "img_height = 256\n",
    "img_width = 256\n",
    "num_classes=3\n",
    "\n",
    "train_ds = tf.keras.preprocessing.image_dataset_from_directory(\n",
    "  data_dir,\n",
    "  validation_split=0.2,\n",
    "  subset=\"training\",\n",
    "  seed=123,\n",
    "  image_size=(img_height, img_width),\n",
    "  batch_size=batch_size)\n",
    "\n",
    "val_ds = tf.keras.preprocessing.image_dataset_from_directory(\n",
    "  data_dir,\n",
    "  validation_split=0.2,\n",
    "  subset=\"validation\",\n",
    "  seed=123,\n",
    "  image_size=(img_height, img_width),\n",
    "  batch_size=batch_size)"
   ]
  },
  {
   "cell_type": "code",
   "execution_count": 5,
   "metadata": {},
   "outputs": [],
   "source": [
    "\n",
    "data_augmentation = tf.keras.Sequential([\n",
    "  tf.keras.layers.experimental.preprocessing.RandomFlip('horizontal'),\n",
    "  tf.keras.layers.experimental.preprocessing.RandomRotation(0.2),\n",
    "  \n",
    "])\n"
   ]
  },
  {
   "cell_type": "code",
   "execution_count": 6,
   "metadata": {},
   "outputs": [],
   "source": [
    "preprocess_input = tf.keras.applications.mobilenet_v2.preprocess_input\n"
   ]
  },
  {
   "cell_type": "code",
   "execution_count": 7,
   "metadata": {},
   "outputs": [],
   "source": [
    "BATCH_SIZE = 8\n",
    "IMG_SIZE = (256, 256)\n"
   ]
  },
  {
   "cell_type": "code",
   "execution_count": 8,
   "metadata": {},
   "outputs": [
    {
     "name": "stdout",
     "output_type": "stream",
     "text": [
      "WARNING:tensorflow:`input_shape` is undefined or non-square, or `rows` is not in [96, 128, 160, 192, 224]. Weights for input shape (224, 224) will be loaded as the default.\n"
     ]
    }
   ],
   "source": [
    "IMG_SHAPE = IMG_SIZE + (3,)\n",
    "base_model = tf.keras.applications.MobileNetV2(input_shape=IMG_SHAPE,\n",
    "                                               include_top=False,\n",
    "                                               weights='imagenet')\n"
   ]
  },
  {
   "cell_type": "code",
   "execution_count": 9,
   "metadata": {},
   "outputs": [],
   "source": [
    "base_model.trainable = True\n"
   ]
  },
  {
   "cell_type": "code",
   "execution_count": 10,
   "metadata": {},
   "outputs": [],
   "source": [
    "image_batch, label_batch = next(iter(train_ds))\n",
    "feature_batch = base_model(image_batch)\n",
    "global_average_layer = tf.keras.layers.GlobalAveragePooling2D()\n",
    "feature_batch_average = global_average_layer(feature_batch)\n"
   ]
  },
  {
   "cell_type": "code",
   "execution_count": 11,
   "metadata": {},
   "outputs": [],
   "source": [
    "prediction_layer = tf.keras.layers.Dense(3)\n",
    "prediction_batch = prediction_layer(feature_batch_average)\n"
   ]
  },
  {
   "cell_type": "code",
   "execution_count": 12,
   "metadata": {},
   "outputs": [],
   "source": [
    "inputs = tf.keras.Input(shape=(256, 256, 3))\n",
    "x = data_augmentation(inputs)\n",
    "x = preprocess_input(x)\n",
    "x = base_model(x, training=True)\n",
    "x = global_average_layer(x)\n",
    "x = tf.keras.layers.Dropout(0.2)(x)\n",
    "outputs = prediction_layer(x)\n",
    "model = tf.keras.Model(inputs, outputs)\n"
   ]
  },
  {
   "cell_type": "code",
   "execution_count": 13,
   "metadata": {},
   "outputs": [
    {
     "name": "stdout",
     "output_type": "stream",
     "text": [
      "Model: \"model\"\n",
      "_________________________________________________________________\n",
      "Layer (type)                 Output Shape              Param #   \n",
      "=================================================================\n",
      "input_2 (InputLayer)         [(None, 256, 256, 3)]     0         \n",
      "_________________________________________________________________\n",
      "sequential (Sequential)      (None, 256, 256, 3)       0         \n",
      "_________________________________________________________________\n",
      "tf.math.truediv (TFOpLambda) (None, 256, 256, 3)       0         \n",
      "_________________________________________________________________\n",
      "tf.math.subtract (TFOpLambda (None, 256, 256, 3)       0         \n",
      "_________________________________________________________________\n",
      "mobilenetv2_1.00_224 (Functi (None, 8, 8, 1280)        2257984   \n",
      "_________________________________________________________________\n",
      "global_average_pooling2d (Gl (None, 1280)              0         \n",
      "_________________________________________________________________\n",
      "dropout (Dropout)            (None, 1280)              0         \n",
      "_________________________________________________________________\n",
      "dense (Dense)                (None, 3)                 3843      \n",
      "=================================================================\n",
      "Total params: 2,261,827\n",
      "Trainable params: 2,227,715\n",
      "Non-trainable params: 34,112\n",
      "_________________________________________________________________\n"
     ]
    }
   ],
   "source": [
    "model.summary()"
   ]
  },
  {
   "cell_type": "code",
   "execution_count": 14,
   "metadata": {},
   "outputs": [],
   "source": [
    "base_learning_rate = 0.0001\n",
    "model.compile(optimizer=tf.keras.optimizers.Adam(lr=base_learning_rate),\n",
    "              loss=tf.keras.losses.SparseCategoricalCrossentropy(from_logits=True),\n",
    "              metrics=['accuracy'])\n"
   ]
  },
  {
   "cell_type": "code",
   "execution_count": 15,
   "metadata": {},
   "outputs": [
    {
     "name": "stdout",
     "output_type": "stream",
     "text": [
      "6/6 [==============================] - 2s 21ms/step - loss: 1.0719 - accuracy: 0.4248\n"
     ]
    }
   ],
   "source": [
    "initial_epochs = 10\n",
    "\n",
    "loss0, accuracy0 = model.evaluate(val_ds)\n"
   ]
  },
  {
   "cell_type": "code",
   "execution_count": 16,
   "metadata": {},
   "outputs": [
    {
     "name": "stdout",
     "output_type": "stream",
     "text": [
      "initial loss: 1.09\n",
      "initial accuracy: 0.40\n"
     ]
    }
   ],
   "source": [
    "print(\"initial loss: {:.2f}\".format(loss0))\n",
    "print(\"initial accuracy: {:.2f}\".format(accuracy0))\n"
   ]
  },
  {
   "cell_type": "code",
   "execution_count": 17,
   "metadata": {},
   "outputs": [
    {
     "name": "stdout",
     "output_type": "stream",
     "text": [
      "Epoch 1/29\n",
      "25/25 [==============================] - 8s 161ms/step - loss: 0.8531 - accuracy: 0.5935 - val_loss: 0.4338 - val_accuracy: 0.8333\n",
      "Epoch 2/29\n",
      "25/25 [==============================] - 2s 95ms/step - loss: 0.3861 - accuracy: 0.8537 - val_loss: 0.4297 - val_accuracy: 0.8333\n",
      "Epoch 3/29\n",
      "25/25 [==============================] - 2s 94ms/step - loss: 0.3690 - accuracy: 0.8455 - val_loss: 0.4345 - val_accuracy: 0.7333\n",
      "Epoch 4/29\n",
      "25/25 [==============================] - 2s 95ms/step - loss: 0.2000 - accuracy: 0.9431 - val_loss: 0.2333 - val_accuracy: 0.9000\n",
      "Epoch 5/29\n",
      "25/25 [==============================] - 2s 94ms/step - loss: 0.3467 - accuracy: 0.8537 - val_loss: 0.1754 - val_accuracy: 0.9333\n",
      "Epoch 6/29\n",
      "25/25 [==============================] - 2s 94ms/step - loss: 0.1933 - accuracy: 0.9268 - val_loss: 0.1208 - val_accuracy: 0.9333\n",
      "Epoch 7/29\n",
      "25/25 [==============================] - 2s 93ms/step - loss: 0.2243 - accuracy: 0.9187 - val_loss: 0.4795 - val_accuracy: 0.8000\n",
      "Epoch 8/29\n",
      "25/25 [==============================] - 2s 93ms/step - loss: 0.1211 - accuracy: 0.9512 - val_loss: 0.1736 - val_accuracy: 0.9000\n",
      "Epoch 9/29\n",
      "25/25 [==============================] - 2s 93ms/step - loss: 0.2573 - accuracy: 0.9106 - val_loss: 0.1614 - val_accuracy: 0.9667\n",
      "Epoch 10/29\n",
      "25/25 [==============================] - 2s 94ms/step - loss: 0.1504 - accuracy: 0.9512 - val_loss: 0.2482 - val_accuracy: 0.9333\n",
      "Epoch 11/29\n",
      "25/25 [==============================] - 2s 94ms/step - loss: 0.0781 - accuracy: 0.9593 - val_loss: 0.0912 - val_accuracy: 0.9667\n",
      "Epoch 12/29\n",
      "25/25 [==============================] - 2s 92ms/step - loss: 0.2098 - accuracy: 0.9024 - val_loss: 0.3355 - val_accuracy: 0.9000\n",
      "Epoch 13/29\n",
      "25/25 [==============================] - 2s 94ms/step - loss: 0.1082 - accuracy: 0.9675 - val_loss: 0.0846 - val_accuracy: 0.9667\n",
      "Epoch 14/29\n",
      "25/25 [==============================] - 2s 94ms/step - loss: 0.1313 - accuracy: 0.9350 - val_loss: 0.1110 - val_accuracy: 0.9333\n",
      "Epoch 15/29\n",
      "25/25 [==============================] - 2s 94ms/step - loss: 0.1555 - accuracy: 0.9512 - val_loss: 0.1357 - val_accuracy: 0.9667\n",
      "Epoch 16/29\n",
      "25/25 [==============================] - 2s 94ms/step - loss: 0.0921 - accuracy: 0.9512 - val_loss: 0.1806 - val_accuracy: 0.9333\n",
      "Epoch 17/29\n",
      "25/25 [==============================] - 2s 94ms/step - loss: 0.0425 - accuracy: 0.9837 - val_loss: 0.0191 - val_accuracy: 1.0000\n",
      "Epoch 18/29\n",
      "25/25 [==============================] - 2s 94ms/step - loss: 0.0471 - accuracy: 0.9837 - val_loss: 0.0194 - val_accuracy: 1.0000\n",
      "Epoch 19/29\n",
      "25/25 [==============================] - 2s 93ms/step - loss: 0.0654 - accuracy: 0.9756 - val_loss: 0.0961 - val_accuracy: 0.9333\n",
      "Epoch 20/29\n",
      "25/25 [==============================] - 2s 94ms/step - loss: 0.1547 - accuracy: 0.9431 - val_loss: 0.1038 - val_accuracy: 0.9667\n",
      "Epoch 21/29\n",
      "25/25 [==============================] - 2s 94ms/step - loss: 0.0455 - accuracy: 0.9756 - val_loss: 0.0950 - val_accuracy: 0.9667\n",
      "Epoch 22/29\n",
      "25/25 [==============================] - 2s 94ms/step - loss: 0.1149 - accuracy: 0.9593 - val_loss: 1.0406 - val_accuracy: 0.6667\n",
      "Epoch 23/29\n",
      "25/25 [==============================] - 2s 92ms/step - loss: 0.0683 - accuracy: 0.9756 - val_loss: 0.0661 - val_accuracy: 0.9667\n",
      "Epoch 24/29\n",
      "25/25 [==============================] - 2s 93ms/step - loss: 0.0402 - accuracy: 0.9837 - val_loss: 0.2188 - val_accuracy: 0.9000\n",
      "Epoch 25/29\n",
      "25/25 [==============================] - 2s 93ms/step - loss: 0.0441 - accuracy: 0.9837 - val_loss: 0.0675 - val_accuracy: 0.9667\n",
      "Epoch 26/29\n",
      "25/25 [==============================] - 2s 93ms/step - loss: 0.0666 - accuracy: 0.9756 - val_loss: 0.0117 - val_accuracy: 1.0000\n",
      "Epoch 27/29\n",
      "25/25 [==============================] - 2s 94ms/step - loss: 0.0491 - accuracy: 0.9675 - val_loss: 0.0572 - val_accuracy: 0.9667\n",
      "Epoch 28/29\n",
      "25/25 [==============================] - 2s 93ms/step - loss: 0.1386 - accuracy: 0.9675 - val_loss: 0.0473 - val_accuracy: 0.9667\n",
      "Epoch 29/29\n",
      "25/25 [==============================] - 2s 92ms/step - loss: 0.0439 - accuracy: 0.9837 - val_loss: 0.0545 - val_accuracy: 1.0000\n"
     ]
    }
   ],
   "source": [
    "history = model.fit(train_ds,\n",
    "                    epochs=29,\n",
    "                    validation_data=val_ds)\n"
   ]
  },
  {
   "cell_type": "code",
   "execution_count": 18,
   "metadata": {},
   "outputs": [
    {
     "data": {
      "image/png": "[encoded data removed]",
      "text/plain": "<Figure size 576x576 with 2 Axes>"
     },
     "metadata": {
      "needs_background": "light",
      "transient": {}
     },
     "output_type": "display_data"
    }
   ],
   "source": [
    "acc = history.history['accuracy']\n",
    "val_acc = history.history['val_accuracy']\n",
    "\n",
    "loss = history.history['loss']\n",
    "val_loss = history.history['val_loss']\n",
    "\n",
    "plt.figure(figsize=(8, 8))\n",
    "plt.subplot(2, 1, 1)\n",
    "plt.plot(acc, label='Training Accuracy')\n",
    "plt.plot(val_acc, label='Validation Accuracy')\n",
    "plt.legend(loc='lower right')\n",
    "plt.ylabel('Accuracy')\n",
    "plt.ylim([min(plt.ylim()),1])\n",
    "plt.title('Training and Validation Accuracy')\n",
    "\n",
    "plt.subplot(2, 1, 2)\n",
    "plt.plot(loss, label='Training Loss')\n",
    "plt.plot(val_loss, label='Validation Loss')\n",
    "plt.legend(loc='upper right')\n",
    "plt.ylabel('Cross Entropy')\n",
    "plt.ylim([0,1.0])\n",
    "plt.title('Training and Validation Loss')\n",
    "plt.xlabel('epoch')\n",
    "plt.show()\n"
   ]
  },
  {
   "cell_type": "code",
   "execution_count": 19,
   "metadata": {},
   "outputs": [
    {
     "name": "stdout",
     "output_type": "stream",
     "text": [
      "INFO:tensorflow:Assets written to: /home/mabruq/Projects/Test/tmp/saved_models/1614777068/assets\n"
     ]
    },
    {
     "data": {
      "text/plain": "'/home/mabruq/Projects/Test/tmp/saved_models/1614777068'"
     },
     "execution_count": 19,
     "metadata": {},
     "output_type": "execute_result"
    }
   ],
   "source": [
    "t = time.time()\n",
    "\n",
    "export_path = \"/home/mabruq/Projects/Test/tmp/saved_models/{}\".format(int(t))\n",
    "model.save(export_path)\n",
    "\n",
    "export_path"
   ]
  },
  {
   "cell_type": "code",
   "execution_count": 1,
   "metadata": {},
   "outputs": [],
   "source": [
    "from numba import cuda \n",
    "device = cuda.get_current_device()\n",
    "device.reset()"
   ]
  },
  {
   "cell_type": "code",
   "execution_count": 25,
   "metadata": {},
   "outputs": [
    {
     "name": "stdout",
     "output_type": "stream",
     "text": [
      "['Arduino_Mega', 'Arduino_Uno', 'NodeMCU']\n"
     ]
    }
   ],
   "source": [
    "class_names = train_ds.class_names\n",
    "print(class_names)"
   ]
  },
  {
   "cell_type": "code",
   "execution_count": 26,
   "metadata": {},
   "outputs": [
    {
     "name": "stdout",
     "output_type": "stream",
     "text": [
      "[[-0.9347924   0.97958064 -2.1233594 ]]\n",
      "tf.Tensor([0.12365001 0.8386791  0.03767091], shape=(3,), dtype=float32)\n",
      "This image most likely belongs to Arduino_Uno with a 83.87 percent confidence.\n"
     ]
    }
   ],
   "source": [
    "from tensorflow import keras\n",
    "import numpy as np\n",
    "\n",
    "img = keras.preprocessing.image.load_img(\n",
    "    'j1.jpg', target_size=(256, 256)\n",
    ")\n",
    "img_array = keras.preprocessing.image.img_to_array(img)\n",
    "img_array = tf.expand_dims(img_array, 0) # Create a batch\n",
    "\n",
    "predictions = model.predict(img_array)\n",
    "score = tf.nn.softmax(predictions[0])\n",
    "\n",
    "print(predictions)\n",
    "print(score)\n",
    "print(\n",
    "    \"This image most likely belongs to {} with a {:.2f} percent confidence.\"\n",
    "    .format(class_names[np.argmax(score)], 100 * np.max(score))\n",
    ")"
   ]
  },
  {
   "cell_type": "code",
   "execution_count": 20,
   "metadata": {},
   "outputs": [
    {
     "name": "stdout",
     "output_type": "stream",
     "text": [
      "1614777068.8408055\n"
     ]
    }
   ],
   "source": [
    "print(t)"
   ]
  },
  {
   "cell_type": "code",
   "execution_count": null,
   "metadata": {},
   "outputs": [],
   "source": []
  }
 ],
 "metadata": {
  "kernelspec": {
   "display_name": "Python 3.8.8 64-bit",
   "metadata": {
    "interpreter": {
     "hash": "5042743bc6eba2b4f1ae535f7132cf3991a8758a4a83e4fed9a69eb4bf4089db"
    }
   },
   "name": "python3"
  },
  "language_info": {
   "codemirror_mode": {
    "name": "ipython",
    "version": 3
   },
   "file_extension": ".py",
   "mimetype": "text/x-python",
   "name": "python",
   "nbconvert_exporter": "python",
   "pygments_lexer": "ipython3",
   "version": "3.8.8-final"
  },
  "orig_nbformat": 2
 },
 "nbformat": 4,
 "nbformat_minor": 2
}