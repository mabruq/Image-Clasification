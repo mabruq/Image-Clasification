{
 "cells": [
  {
   "cell_type": "code",
   "execution_count": 12,
   "metadata": {},
   "outputs": [],
   "source": [
    "import os\n",
    "import argparse\n",
    "from keras.preprocessing.image import ImageDataGenerator, array_to_img, img_to_array, load_img"
   ]
  },
  {
   "cell_type": "code",
   "execution_count": 13,
   "metadata": {},
   "outputs": [
    {
     "name": "stderr",
     "output_type": "stream",
     "text": [
      "usage: ipykernel_launcher.py [-h] -d DIR\n",
      "ipykernel_launcher.py: error: the following arguments are required: -d/--dir\n"
     ]
    },
    {
     "ename": "SystemExit",
     "evalue": "2",
     "output_type": "error",
     "traceback": [
      "An exception has occurred, use %tb to see the full traceback.\n",
      "\u001b[0;31mSystemExit\u001b[0m\u001b[0;31m:\u001b[0m 2\n"
     ]
    }
   ],
   "source": [
    "parser=argparse.ArgumentParser()\n",
    "parser.add_argument(\"-d\",\"--dir\",help=\"Enter the directory\",type=str,required=True)\n",
    "args=parser.parse_args()"
   ]
  },
  {
   "cell_type": "code",
   "execution_count": 6,
   "metadata": {},
   "outputs": [],
   "source": [
    "dir=args.dir"
   ]
  },
  {
   "cell_type": "code",
   "execution_count": 3,
   "metadata": {},
   "outputs": [],
   "source": [
    "files=os.listdir(dir)\n",
    "files.sort()"
   ]
  },
  {
   "cell_type": "code",
   "execution_count": 4,
   "metadata": {},
   "outputs": [],
   "source": [
    "datagen = ImageDataGenerator(\n",
    "          rotation_range=10,\n",
    "          width_shift_range=0.05,\n",
    "          height_shift_range=0.05,\n",
    "          shear_range=0.2,\n",
    "          zoom_range=0.1,\n",
    "          horizontal_flip=True,\n",
    "          vertical_flip=True,\n",
    "          fill_mode='nearest',\n",
    "          brightness_range=(0.2,0.8)\n",
    ")"
   ]
  },
  {
   "cell_type": "code",
   "execution_count": 10,
   "metadata": {},
   "outputs": [],
   "source": [
    "for f in range(len(files)):\n",
    "    f_name=dir+files[f]\n",
    "    img=load_img(f_name)\n",
    "    x=img_to_array(img)\n",
    "    x=x.reshape((1,)+x.shape)\n",
    "    \n",
    "    fn=files[f]\n",
    "    fn=fn.replace('.jpeg','')\n",
    "    fn=fn.replace('.jpg','')\n",
    "\n",
    "    i=1\n",
    "    pre=\"{fn}_aug{i}\".format(fn=fn,i=i)\n",
    "    for batch in datagen.flow(x,batch_size=5,save_to_dir=dir,save_prefix=pre,save_format='jpeg'):\n",
    "        i+=1\n",
    "        \n",
    "        if i>4:\n",
    "            break"
   ]
  },
  {
   "cell_type": "code",
   "execution_count": null,
   "metadata": {},
   "outputs": [],
   "source": []
  }
 ],
 "metadata": {
  "kernelspec": {
   "display_name": "Python 3",
   "language": "python",
   "name": "python3"
  },
  "language_info": {
   "codemirror_mode": {
    "name": "ipython",
    "version": 3
   },
   "file_extension": ".py",
   "mimetype": "text/x-python",
   "name": "python",
   "nbconvert_exporter": "python",
   "pygments_lexer": "ipython3",
   "version": "3.9.4"
  }
 },
 "nbformat": 4,
 "nbformat_minor": 2
}
