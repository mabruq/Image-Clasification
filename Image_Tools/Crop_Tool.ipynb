{
 "metadata": {
  "language_info": {
   "codemirror_mode": {
    "name": "ipython",
    "version": 3
   },
   "file_extension": ".py",
   "mimetype": "text/x-python",
   "name": "python",
   "nbconvert_exporter": "python",
   "pygments_lexer": "ipython3",
   "version": "3.9.4-final"
  },
  "orig_nbformat": 2,
  "kernelspec": {
   "name": "python3",
   "display_name": "Python 3"
  }
 },
 "nbformat": 4,
 "nbformat_minor": 2,
 "cells": [
  {
   "cell_type": "code",
   "execution_count": 36,
   "metadata": {},
   "outputs": [],
   "source": [
    "import cv2\n",
    "import os\n",
    "from os.path import isfile, join\n",
    "import numpy as np\n",
    "import argparse"
   ]
  },
  {
   "cell_type": "code",
   "execution_count": null,
   "metadata": {},
   "outputs": [],
   "source": [
    "parser=argparse.ArgumentParser()\n",
    "parser.add_argument(\"-i\",\"--i_dir\",help=\"first number\",type=str,required=True)\n",
    "parser.add_argument(\"-o\",\"--o_dir\",help=\"second number\",type=str,required=True)\n",
    "args=parser.parse_args()"
   ]
  },
  {
   "cell_type": "code",
   "execution_count": 31,
   "metadata": {},
   "outputs": [],
   "source": [
    "global image\n",
    "global cache\n",
    "global width\n",
    "global xi,yi\n",
    "width = 362\n",
    "\n",
    "dir=args.i_dir\n",
    "files = [f for f in os.listdir(dir) if os.path.isfile(join(dir, f))]\n",
    "files.sort()\n"
   ]
  },
  {
   "cell_type": "code",
   "execution_count": 32,
   "metadata": {},
   "outputs": [
    {
     "output_type": "stream",
     "name": "stdout",
     "text": [
      "[Errno 17] File exists: '/home/mabrq/Downloads/DF_VT/Green_Mango/Croppedt/'\n"
     ]
    }
   ],
   "source": [
    "\n",
    "op_dir=args.o_dir\n",
    "\n",
    "try:\n",
    "    os.mkdir(op_dir)\n",
    "except OSError as error:\n",
    "    print(error)\n"
   ]
  },
  {
   "source": [
    "def res(i):\n",
    "    if i<0:\n",
    "        i=99\n",
    "    elif i>99:\n",
    "        i=0\n",
    "    else:\n",
    "        i=i\n",
    "    return i "
   ],
   "cell_type": "code",
   "metadata": {},
   "execution_count": 33,
   "outputs": []
  },
  {
   "cell_type": "code",
   "execution_count": 34,
   "metadata": {},
   "outputs": [],
   "source": [
    "# Mouse callback function. Gets called when mouse events happen.\n",
    "def drawRect(event,x,y,flags,param):\n",
    "    global image\n",
    "    global cache\n",
    "    global width\n",
    "    global xi,yi\n",
    "\n",
    "#This if statement is enabled when the leftmouse is double clicked.\n",
    "#if and elif statements are used to restrict the values of x and y so that the selected rectangle does not go out of bounds and give an error while saving the crop.\n",
    "    if event==cv2.EVENT_LBUTTONDBLCLK:\n",
    "        xy=(image.shape[1],image.shape[0])\n",
    "        if x-width<0 and y-width<0:                                    \n",
    "            x=x+abs(x-width)                                           \n",
    "            y=y+abs(y-width)\n",
    "        elif y-width<0 and x+width>xy[0]:\n",
    "            y=y+abs(y-width)\n",
    "            x=x=x-(x+width-xy[0])\n",
    "        elif x-width<0 and y+width>xy[1]:\n",
    "            x=x+abs(x-width)\n",
    "            y=y-(y+width-xy[1])\n",
    "        elif x+width>xy[0] and y+width>xy[1]:\n",
    "            x=x-(x+width-xy[0])\n",
    "            y=y-(y+width-xy[1])\n",
    "        elif x-width<0:\n",
    "            x=x+abs(x-width)\n",
    "        elif y-width<0:\n",
    "            y=y+abs(y-width)\n",
    "        elif x+width>xy[0]:\n",
    "            x=x-(x+width-xy[0])\n",
    "        elif y+width>xy[1]:\n",
    "            y=y-(y+width-xy[1])\n",
    "        \n",
    "        cv2.rectangle(image,(x-width,y-width),(x+width,y+width),(255,0,255),2)\n",
    "        xi=x\n",
    "        yi=y\n",
    "        cv2.imshow(\"Image\",image)\n",
    "        \n",
    "#If statement is activated when the middle mouse is pressed down.\n",
    "#Used to reset the image if any mistake happens.\n",
    "    if event==cv2.EVENT_MBUTTONDOWN:\n",
    "        image=cv2.imread(dir+fname)\n",
    "        cv2.putText(image,fname,(50,50),cv2.FONT_HERSHEY_COMPLEX,1,(255,0,0),2)\n",
    "        cv2.imshow(\"Image\",image)"
   ]
  },
  {
   "cell_type": "code",
   "execution_count": 35,
   "metadata": {},
   "outputs": [],
   "source": [
    "i=0\n",
    "cv2.namedWindow(\"Image\",cv2.WINDOW_NORMAL)\n",
    "cv2.setMouseCallback(\"Image\",drawRect)\n",
    "\n",
    "fname=files[i]\n",
    "image=cv2.imread(dir+fname)\n",
    "cv2.putText(image,fname,(50,50),cv2.FONT_HERSHEY_COMPLEX,1,(255,0,0),2)\n",
    "cv2.imshow(\"Image\",image)\n",
    "\n",
    "while True:\n",
    "    key=cv2.waitKey(0)\n",
    "    if key==ord('q'):\n",
    "        break\n",
    "\n",
    "    elif key==ord('m'):\n",
    "        i+=1\n",
    "        i=res(i)\n",
    "        fname=files[i]\n",
    "        image=cv2.imread(dir+fname)\n",
    "        cv2.putText(image,fname,(50,50),cv2.FONT_HERSHEY_COMPLEX,1,(255,0,0),2)\n",
    "        cv2.imshow(\"Image\",image)\n",
    "\n",
    "    elif key==ord('n'):\n",
    "        i=i-1\n",
    "        i=res(i)\n",
    "        fname=files[i]\n",
    "        image=cv2.imread(dir+fname) \n",
    "        cv2.putText(image,fname,(50,50),cv2.FONT_HERSHEY_COMPLEX,1,(255,0,0),2)\n",
    "        cv2.imshow(\"Image\",image)\n",
    "\n",
    "    elif key==ord('g'):\n",
    "        crop=image[yi-width+2:yi+width-2,xi-width+2:xi+width-2]\n",
    "        #cv2.imshow('crop_img',crop)\n",
    "        filename=op_dir+fname\n",
    "        cv2.imwrite(filename, crop)\n",
    "\n",
    "    elif key==ord('r'):\n",
    "        i=res(i)\n",
    "        fname=files[i]\n",
    "        image=cv2.imread(dir+fname) \n",
    "        cv2.imshow(\"Image\",image)\n",
    "\n",
    "    elif key==ord('1'):\n",
    "        width=362\n",
    "    elif key==ord('2'):\n",
    "        width=422\n",
    "    elif key==ord('3'):\n",
    "        width=482\n",
    "    elif key==ord('4'):\n",
    "        width=542\n",
    "\n",
    "\n",
    "cv2.destroyAllWindows()"
   ]
  },
  {
   "cell_type": "code",
   "execution_count": null,
   "metadata": {},
   "outputs": [],
   "source": []
  }
 ]
}